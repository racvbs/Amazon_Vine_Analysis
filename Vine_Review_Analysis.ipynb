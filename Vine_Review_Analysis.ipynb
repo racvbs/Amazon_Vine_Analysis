{
  "nbformat": 4,
  "nbformat_minor": 0,
  "metadata": {
    "colab": {
      "name": "Vine_Review_Analysis.ipynb",
      "provenance": [],
      "authorship_tag": "ABX9TyMaKyeVNMgCWFgyinEjVskf",
      "include_colab_link": true
    },
    "kernelspec": {
      "name": "python3",
      "display_name": "Python 3"
    },
    "language_info": {
      "name": "python"
    }
  },
  "cells": [
    {
      "cell_type": "markdown",
      "metadata": {
        "id": "view-in-github",
        "colab_type": "text"
      },
      "source": [
        "<a href=\"https://colab.research.google.com/github/racvbs/Amazon_Vine_Analysis/blob/main/Vine_Review_Analysis.ipynb\" target=\"_parent\"><img src=\"https://colab.research.google.com/assets/colab-badge.svg\" alt=\"Open In Colab\"/></a>"
      ]
    },
    {
      "cell_type": "markdown",
      "metadata": {
        "id": "epwmlcAlT_ah"
      },
      "source": [
        ""
      ]
    },
    {
      "cell_type": "code",
      "metadata": {
        "id": "bBcQYgfTTvnO"
      },
      "source": [
        "Create a new Google Colab Notebook, and name it Vine_Review_Analysis.\n",
        "Extract the dataset you used in Deliverable 1.\n",
        "Recreate the vine_table, and perform your analysis using the steps above.\n",
        "Export your Vine_Review_Analysis Google Colab Notebook as an ipynb file, and save it to your Amazon_Vine_Analysis GitHub repository."
      ],
      "execution_count": null,
      "outputs": []
    },
    {
      "cell_type": "code",
      "metadata": {
        "colab": {
          "base_uri": "https://localhost:8080/"
        },
        "id": "Q5i7iTrBUDg_",
        "outputId": "211f4977-0ec2-4bb3-c6e2-ce1921bbfb97"
      },
      "source": [
        "import os\n",
        "# Find the latest version of spark 3.0  from http://www-us.apache.org/dist/spark/ and enter as the spark version\n",
        "# For example:\n",
        "# spark_version = 'spark-3.0.2'\n",
        "spark_version = 'spark-3.0.0'\n",
        "os.environ['SPARK_VERSION']=spark_version\n",
        "print(f\"http://www.apache.org/dist/spark/{spark_version}/{spark_version}-bin-hadoop2.7.tgz\")\n",
        "# Install Spark and Java\n",
        "!apt-get update\n",
        "!apt-get install openjdk-11-jdk-headless -qq > /dev/null\n",
        "!wget -q https://archive.apache.org/dist/spark/$SPARK_VERSION/$SPARK_VERSION-bin-hadoop2.7.tgz\n",
        "\n",
        "!tar xf $SPARK_VERSION-bin-hadoop2.7.tgz\n",
        "!pip install -q findspark\n",
        "\n",
        "# Set Environment Variables\n",
        "os.environ[\"JAVA_HOME\"] = \"/usr/lib/jvm/java-11-openjdk-amd64\"\n",
        "os.environ[\"SPARK_HOME\"] = f\"/content/{spark_version}-bin-hadoop2.7\"\n",
        "\n",
        "# Start a SparkSession\n",
        "import findspark\n",
        "findspark.init()"
      ],
      "execution_count": 2,
      "outputs": [
        {
          "output_type": "stream",
          "name": "stdout",
          "text": [
            "http://www.apache.org/dist/spark/spark-3.0.0/spark-3.0.0-bin-hadoop2.7.tgz\n",
            "Hit:1 https://cloud.r-project.org/bin/linux/ubuntu bionic-cran40/ InRelease\n",
            "Ign:2 https://developer.download.nvidia.com/compute/cuda/repos/ubuntu1804/x86_64  InRelease\n",
            "Ign:3 https://developer.download.nvidia.com/compute/machine-learning/repos/ubuntu1804/x86_64  InRelease\n",
            "Hit:4 https://developer.download.nvidia.com/compute/cuda/repos/ubuntu1804/x86_64  Release\n",
            "Hit:5 https://developer.download.nvidia.com/compute/machine-learning/repos/ubuntu1804/x86_64  Release\n",
            "Hit:6 http://security.ubuntu.com/ubuntu bionic-security InRelease\n",
            "Hit:7 http://archive.ubuntu.com/ubuntu bionic InRelease\n",
            "Hit:8 http://ppa.launchpad.net/c2d4u.team/c2d4u4.0+/ubuntu bionic InRelease\n",
            "Hit:9 http://archive.ubuntu.com/ubuntu bionic-updates InRelease\n",
            "Hit:10 http://ppa.launchpad.net/cran/libgit2/ubuntu bionic InRelease\n",
            "Hit:11 http://archive.ubuntu.com/ubuntu bionic-backports InRelease\n",
            "Hit:13 http://ppa.launchpad.net/deadsnakes/ppa/ubuntu bionic InRelease\n",
            "Hit:15 http://ppa.launchpad.net/graphics-drivers/ppa/ubuntu bionic InRelease\n",
            "Reading package lists... Done\n"
          ]
        }
      ]
    },
    {
      "cell_type": "code",
      "metadata": {
        "colab": {
          "base_uri": "https://localhost:8080/"
        },
        "id": "yTZ_IqvhUIho",
        "outputId": "9f0d6ce4-2d1b-48e5-8474-35955bc5e8ea"
      },
      "source": [
        "!wget https://jdbc.postgresql.org/download/postgresql-42.2.16.jar"
      ],
      "execution_count": 3,
      "outputs": [
        {
          "output_type": "stream",
          "name": "stdout",
          "text": [
            "--2021-11-24 09:41:41--  https://jdbc.postgresql.org/download/postgresql-42.2.16.jar\n",
            "Resolving jdbc.postgresql.org (jdbc.postgresql.org)... 72.32.157.228, 2001:4800:3e1:1::228\n",
            "Connecting to jdbc.postgresql.org (jdbc.postgresql.org)|72.32.157.228|:443... connected.\n",
            "HTTP request sent, awaiting response... 200 OK\n",
            "Length: 1002883 (979K) [application/java-archive]\n",
            "Saving to: ‘postgresql-42.2.16.jar’\n",
            "\n",
            "postgresql-42.2.16. 100%[===================>] 979.38K  --.-KB/s    in 0.09s   \n",
            "\n",
            "2021-11-24 09:41:41 (11.2 MB/s) - ‘postgresql-42.2.16.jar’ saved [1002883/1002883]\n",
            "\n"
          ]
        }
      ]
    },
    {
      "cell_type": "code",
      "metadata": {
        "id": "dkLPiguIUYzN"
      },
      "source": [
        "from pyspark.sql import SparkSession\n",
        "spark = SparkSession.builder.appName(\"M16-Amazon-Challenge\").config(\"spark.driver.extraClassPath\",\"/content/postgresql-42.2.16.jar\").getOrCreate()"
      ],
      "execution_count": 4,
      "outputs": []
    },
    {
      "cell_type": "code",
      "metadata": {
        "colab": {
          "base_uri": "https://localhost:8080/"
        },
        "id": "0rme9PgiUu9W",
        "outputId": "65d6fa05-98b8-4c83-8e25-9ded0d842d45"
      },
      "source": [
        "# the same\n",
        "from pyspark import SparkFiles\n",
        "url = \"https://s3.amazonaws.com/amazon-reviews-pds/tsv/amazon_reviews_us_Home_Improvement_v1_00.tsv.gz\"\n",
        "spark.sparkContext.addFile(url)\n",
        "df = spark.read.option(\"encoding\", \"UTF-8\").csv(SparkFiles.get(\"\"), sep=\"\\t\", header=True, inferSchema=True)\n",
        "df.show()"
      ],
      "execution_count": 5,
      "outputs": [
        {
          "output_type": "stream",
          "name": "stdout",
          "text": [
            "+-----------+-----------+--------------+----------+--------------+--------------------+----------------+-----------+-------------+-----------+----+-----------------+--------------------+--------------------+-----------+\n",
            "|marketplace|customer_id|     review_id|product_id|product_parent|       product_title|product_category|star_rating|helpful_votes|total_votes|vine|verified_purchase|     review_headline|         review_body|review_date|\n",
            "+-----------+-----------+--------------+----------+--------------+--------------------+----------------+-----------+-------------+-----------+----+-----------------+--------------------+--------------------+-----------+\n",
            "|         US|   48881148|R215C9BDXTDQOW|B00FR4YQYK|     381800308|SadoTech Model C ...|Home Improvement|          4|            0|          0|   N|                Y|          Four Stars|        good product| 2015-08-31|\n",
            "|         US|   47882936|R1DTPUV1J57YHA|B00439MYYE|     921341748|iSpring T32M 3.2 ...|Home Improvement|          5|            0|          0|   N|                Y|Good price, quick...|Good price, quick...| 2015-08-31|\n",
            "|         US|   44435471| RFAZK5EWKJWOU|B00002N762|      56053291|Schlage F10CS V E...|Home Improvement|          5|            0|          0|   N|                Y|          Five Stars|       Excellent...!| 2015-08-31|\n",
            "|         US|   28377689|R2XT8X0O0WS1AL|B000QFCP1G|     595928517|Citri-Strip QCG73...|Home Improvement|          5|            0|          0|   N|                Y|Although *slightl...|Although *slightl...| 2015-08-31|\n",
            "|         US|   50134766|R14GRNANKO2Y2J|B00WRCRKOI|     417053744|SleekLighting Bul...|Home Improvement|          5|            0|          0|   N|                Y|      Great Adapters|These adapters ar...| 2015-08-31|\n",
            "|         US|   14066511|R2BLF9VYL24LCQ|B00NIH88EW|     275395071|VDOMUS&reg;Exquis...|Home Improvement|          5|            1|          1|   N|                Y|                nice|awesome and great...| 2015-08-31|\n",
            "|         US|   15211046|R1GI9UW5KJ671O|B005B9CI96|     856617815|Frigidaire 316075...|Home Improvement|          5|            0|          0|   N|                Y|          Five Stars|Perfect. Exactly ...| 2015-08-31|\n",
            "|         US|   14862498|R2H5CEJN863M86|B008L0OMWI|     125102494|Anyray® 5-Bulbs 7...|Home Improvement|          5|            0|          1|   N|                Y|So far working gr...|So far working gr...| 2015-08-31|\n",
            "|         US|   23617292| R5PPDHFOZ3SMU|B00P9FTC6O|     523110842|Cambridge 100 pcs...|Home Improvement|          5|            0|          0|   N|                Y|           Ties tie.|Not much to say a...| 2015-08-31|\n",
            "|         US|   35820485| RE1L9IENKJJ7Y|B00K6BQEHQ|     797306964|EUBUY Silver Tone...|Home Improvement|          1|            0|          0|   N|                Y|             GARBAGE|       crap quality.| 2015-08-31|\n",
            "|         US|   47162350|R3CZ0990QC2Z0H|B008BYQCWM|     865874404|Legend 809125 Leg...|Home Improvement|          5|            0|          0|   N|                Y|          Five Stars|  Good. As expected.| 2015-08-31|\n",
            "|         US|   31884789|R3UMMD2IO29QSP|B003BLHTOU|     183592595|Forearm Forklift ...|Home Improvement|          5|            0|          0|   N|                Y|           It works!|My husband and I ...| 2015-08-31|\n",
            "|         US|   43835770| R541LE5J3OJH2|B0065I114K|     185006358|Newer Technology ...|Home Improvement|          5|            0|          0|   N|                Y|          Five Stars|     works perfectly| 2015-08-31|\n",
            "|         US|   26212294|R10KD9FIE6Y1AS|B00J9XB6BQ|      53423207|Rok Hardware 25 P...|Home Improvement|          5|            0|          0|   N|                Y|Banging cabinet d...|Banging cabinet d...| 2015-08-31|\n",
            "|         US|   17876704|R1YT5YG0QG5DCG|B00K36NJ0E|     593464633|Drift Light Using...|Home Improvement|          5|            0|          0|   N|                Y|Great product for...|Great product for...| 2015-08-31|\n",
            "|         US|   22813225|R207LXJWL40V1S|B000ZIEOHW|     833911812|Troy DPH11 Profes...|Home Improvement|          4|            0|          0|   N|                Y|GETTING THE JOB D...|Drywalling our 18...| 2015-08-31|\n",
            "|         US|   25448576| RIDP0ZD7WT9DE|B0009YDHKC|     852173443|Wright Products V...|Home Improvement|          5|            0|          0|   N|                Y|          Five Stars|exact replacement...| 2015-08-31|\n",
            "|         US|   19754503|R2XJSNZ9219U1Z|B00LBGVLS2|     929968058|LiftMaster Garage...|Home Improvement|          5|            0|          0|   N|                Y|Easy to program g...|Works as advertis...| 2015-08-31|\n",
            "|         US|   17767084|R2M9F1FVVDOGFL|B00002N5DY|     830214712|Heath Zenith SL-5...|Home Improvement|          5|            0|          0|   N|                Y|     easy to install|Working well the ...| 2015-08-31|\n",
            "|         US|   48001709|R1QTOSE2BHU2LJ|B000BQOX88|     498022954|Intermatic T101 2...|Home Improvement|          3|            1|          2|   N|                Y|Kind of disappoin...|I connected the r...| 2015-08-31|\n",
            "+-----------+-----------+--------------+----------+--------------+--------------------+----------------+-----------+-------------+-----------+----+-----------------+--------------------+--------------------+-----------+\n",
            "only showing top 20 rows\n",
            "\n"
          ]
        }
      ]
    },
    {
      "cell_type": "code",
      "metadata": {
        "colab": {
          "base_uri": "https://localhost:8080/"
        },
        "id": "4hU6HhEEUxxt",
        "outputId": "e7fc64bc-04f5-46e8-f0ce-d35fa01fae5f"
      },
      "source": [
        "# Put the new frame (check the other file)\n",
        "# Create the vine_table. DataFrame\n",
        "# vine_df = df.select([])\n",
        "vine_df = df.select([\"review_id\",\"star_rating\",\"helpful_votes\",\"total_votes\",\"vine\",\"verified_purchase\"])\n",
        "vine_df.show(10)\n"
      ],
      "execution_count": 6,
      "outputs": [
        {
          "output_type": "stream",
          "name": "stdout",
          "text": [
            "+--------------+-----------+-------------+-----------+----+-----------------+\n",
            "|     review_id|star_rating|helpful_votes|total_votes|vine|verified_purchase|\n",
            "+--------------+-----------+-------------+-----------+----+-----------------+\n",
            "|R215C9BDXTDQOW|          4|            0|          0|   N|                Y|\n",
            "|R1DTPUV1J57YHA|          5|            0|          0|   N|                Y|\n",
            "| RFAZK5EWKJWOU|          5|            0|          0|   N|                Y|\n",
            "|R2XT8X0O0WS1AL|          5|            0|          0|   N|                Y|\n",
            "|R14GRNANKO2Y2J|          5|            0|          0|   N|                Y|\n",
            "|R2BLF9VYL24LCQ|          5|            1|          1|   N|                Y|\n",
            "|R1GI9UW5KJ671O|          5|            0|          0|   N|                Y|\n",
            "|R2H5CEJN863M86|          5|            0|          1|   N|                Y|\n",
            "| R5PPDHFOZ3SMU|          5|            0|          0|   N|                Y|\n",
            "| RE1L9IENKJJ7Y|          1|            0|          0|   N|                Y|\n",
            "+--------------+-----------+-------------+-----------+----+-----------------+\n",
            "only showing top 10 rows\n",
            "\n"
          ]
        }
      ]
    },
    {
      "cell_type": "code",
      "metadata": {
        "colab": {
          "base_uri": "https://localhost:8080/"
        },
        "id": "ap0PCo71VB-j",
        "outputId": "1e7a8c97-66c2-406b-dedd-75af196edddf"
      },
      "source": [
        "#products_df.filter(products_df.product_id == \"B00E8A0JQS\").show(10)\n",
        "vine_votes_df = vine_df.filter(vine_df.total_votes >= 20)\n",
        "vine_votes_df.show()"
      ],
      "execution_count": 7,
      "outputs": [
        {
          "output_type": "stream",
          "name": "stdout",
          "text": [
            "+--------------+-----------+-------------+-----------+----+-----------------+\n",
            "|     review_id|star_rating|helpful_votes|total_votes|vine|verified_purchase|\n",
            "+--------------+-----------+-------------+-----------+----+-----------------+\n",
            "|R2VIQ3UX794Q0O|          4|           21|         21|   N|                Y|\n",
            "|R1OA24IIHWF54G|          5|           43|         45|   N|                Y|\n",
            "| RJ7N3OOJR9RL0|          4|           63|         71|   N|                Y|\n",
            "|R1W8778CBXSRU6|          5|           28|         29|   N|                Y|\n",
            "|R2EFAM03SWLIJX|          1|           32|         35|   N|                Y|\n",
            "|R3F8P56ZDJ6PI8|          4|          106|        115|   N|                Y|\n",
            "|R2QYLQEK9UAJQ6|          5|           33|         34|   N|                Y|\n",
            "| RQCC7XNYI014B|          1|           91|         92|   N|                Y|\n",
            "|R2U8FRHRVW5D2C|          5|           23|         23|   N|                N|\n",
            "|R3RJZC5J4VP7AT|          4|           86|         91|   N|                N|\n",
            "|R2KBV3A9X53ULG|          5|           39|         45|   N|                Y|\n",
            "|R18XX6GVZ41CY1|          5|           21|         22|   N|                N|\n",
            "|R3V8NHJWQWOU7S|          5|           27|         27|   N|                Y|\n",
            "|R25FJV7A58YHEM|          1|           19|         22|   N|                Y|\n",
            "|R285Z02CQJJ36C|          3|           45|         48|   N|                Y|\n",
            "| R5UJCOLQBEADG|          1|           31|         35|   N|                Y|\n",
            "|R1KEUH7SZ9BIRK|          1|           20|         20|   N|                Y|\n",
            "|R16U59S8ZJGPLY|          5|           64|         64|   N|                Y|\n",
            "|R233D4SD2MHUZG|          5|           20|         20|   N|                Y|\n",
            "| RVDGV2G8PEUH2|          1|           13|         21|   N|                N|\n",
            "+--------------+-----------+-------------+-----------+----+-----------------+\n",
            "only showing top 20 rows\n",
            "\n"
          ]
        }
      ]
    },
    {
      "cell_type": "code",
      "metadata": {
        "colab": {
          "base_uri": "https://localhost:8080/"
        },
        "id": "rGyjvo-FVKBn",
        "outputId": "cd92aff9-9e70-4507-a605-61c7d5ec1263"
      },
      "source": [
        "vine_percentage_df = vine_votes_df.filter((vine_votes_df.helpful_votes/vine_votes_df.total_votes) >= .5)\n",
        "vine_percentage_df.show()"
      ],
      "execution_count": 8,
      "outputs": [
        {
          "output_type": "stream",
          "name": "stdout",
          "text": [
            "+--------------+-----------+-------------+-----------+----+-----------------+\n",
            "|     review_id|star_rating|helpful_votes|total_votes|vine|verified_purchase|\n",
            "+--------------+-----------+-------------+-----------+----+-----------------+\n",
            "|R2VIQ3UX794Q0O|          4|           21|         21|   N|                Y|\n",
            "|R1OA24IIHWF54G|          5|           43|         45|   N|                Y|\n",
            "| RJ7N3OOJR9RL0|          4|           63|         71|   N|                Y|\n",
            "|R1W8778CBXSRU6|          5|           28|         29|   N|                Y|\n",
            "|R2EFAM03SWLIJX|          1|           32|         35|   N|                Y|\n",
            "|R3F8P56ZDJ6PI8|          4|          106|        115|   N|                Y|\n",
            "|R2QYLQEK9UAJQ6|          5|           33|         34|   N|                Y|\n",
            "| RQCC7XNYI014B|          1|           91|         92|   N|                Y|\n",
            "|R2U8FRHRVW5D2C|          5|           23|         23|   N|                N|\n",
            "|R3RJZC5J4VP7AT|          4|           86|         91|   N|                N|\n",
            "|R2KBV3A9X53ULG|          5|           39|         45|   N|                Y|\n",
            "|R18XX6GVZ41CY1|          5|           21|         22|   N|                N|\n",
            "|R3V8NHJWQWOU7S|          5|           27|         27|   N|                Y|\n",
            "|R25FJV7A58YHEM|          1|           19|         22|   N|                Y|\n",
            "|R285Z02CQJJ36C|          3|           45|         48|   N|                Y|\n",
            "| R5UJCOLQBEADG|          1|           31|         35|   N|                Y|\n",
            "|R1KEUH7SZ9BIRK|          1|           20|         20|   N|                Y|\n",
            "|R16U59S8ZJGPLY|          5|           64|         64|   N|                Y|\n",
            "|R233D4SD2MHUZG|          5|           20|         20|   N|                Y|\n",
            "| RVDGV2G8PEUH2|          1|           13|         21|   N|                N|\n",
            "+--------------+-----------+-------------+-----------+----+-----------------+\n",
            "only showing top 20 rows\n",
            "\n"
          ]
        }
      ]
    },
    {
      "cell_type": "code",
      "metadata": {
        "colab": {
          "base_uri": "https://localhost:8080/"
        },
        "id": "at1hrCR7VZx7",
        "outputId": "9c4b743a-9ba6-42b6-f8c6-ddbd36a10aa8"
      },
      "source": [
        "vine_paid_df = vine_percentage_df.filter(vine_percentage_df.vine == 'Y')\n",
        "vine_paid_df.show()"
      ],
      "execution_count": 9,
      "outputs": [
        {
          "output_type": "stream",
          "name": "stdout",
          "text": [
            "+--------------+-----------+-------------+-----------+----+-----------------+\n",
            "|     review_id|star_rating|helpful_votes|total_votes|vine|verified_purchase|\n",
            "+--------------+-----------+-------------+-----------+----+-----------------+\n",
            "|R29V4UDSS053D8|          3|           33|         38|   Y|                N|\n",
            "|R1I2D068WC37PA|          3|           32|         37|   Y|                N|\n",
            "|R13W2U74F67QED|          5|           62|         76|   Y|                N|\n",
            "|R2QI37XFOBKUGD|          4|           24|         33|   Y|                N|\n",
            "|R19F60BB2DNCKN|          5|          170|        174|   Y|                N|\n",
            "|R2PYNEWYYQDWHI|          5|           24|         27|   Y|                N|\n",
            "|R1UEWHCPJL2XJB|          5|           70|         72|   Y|                N|\n",
            "| RXTMMEBRYZB53|          5|           21|         24|   Y|                N|\n",
            "|R1PXVYIYMYGUZL|          5|           21|         26|   Y|                N|\n",
            "| RSFMJJXFZHX1C|          5|           24|         25|   Y|                N|\n",
            "|R3AGOANU5B89WE|          4|           20|         21|   Y|                N|\n",
            "|R1Z849RVP83BSJ|          5|           21|         23|   Y|                N|\n",
            "|R2HQVKK2QW0EAT|          5|           20|         24|   Y|                N|\n",
            "|  RHSOAAAT5UVP|          5|           55|         56|   Y|                N|\n",
            "| RZXDK1RE3YQ97|          4|           18|         21|   Y|                N|\n",
            "|R2IQH4H2S5EROF|          5|           23|         24|   Y|                N|\n",
            "| R2BQ1FHU7OQPQ|          5|          212|        220|   Y|                N|\n",
            "| RH1A5XB16O3BM|          4|           28|         32|   Y|                N|\n",
            "| R4MAE8LHKDZMG|          5|           36|         39|   Y|                Y|\n",
            "|R2QLNOOJ4J16D2|          3|          111|        118|   Y|                N|\n",
            "+--------------+-----------+-------------+-----------+----+-----------------+\n",
            "only showing top 20 rows\n",
            "\n"
          ]
        }
      ]
    },
    {
      "cell_type": "code",
      "metadata": {
        "colab": {
          "base_uri": "https://localhost:8080/"
        },
        "id": "bCiUXXECVje6",
        "outputId": "a8c62925-69e4-4b93-d10a-09633eadfdf6"
      },
      "source": [
        "vine_unpaid_df = vine_percentage_df.filter(vine_percentage_df.vine == 'N')\n",
        "vine_unpaid_df.show()"
      ],
      "execution_count": 10,
      "outputs": [
        {
          "output_type": "stream",
          "name": "stdout",
          "text": [
            "+--------------+-----------+-------------+-----------+----+-----------------+\n",
            "|     review_id|star_rating|helpful_votes|total_votes|vine|verified_purchase|\n",
            "+--------------+-----------+-------------+-----------+----+-----------------+\n",
            "|R2VIQ3UX794Q0O|          4|           21|         21|   N|                Y|\n",
            "|R1OA24IIHWF54G|          5|           43|         45|   N|                Y|\n",
            "| RJ7N3OOJR9RL0|          4|           63|         71|   N|                Y|\n",
            "|R1W8778CBXSRU6|          5|           28|         29|   N|                Y|\n",
            "|R2EFAM03SWLIJX|          1|           32|         35|   N|                Y|\n",
            "|R3F8P56ZDJ6PI8|          4|          106|        115|   N|                Y|\n",
            "|R2QYLQEK9UAJQ6|          5|           33|         34|   N|                Y|\n",
            "| RQCC7XNYI014B|          1|           91|         92|   N|                Y|\n",
            "|R2U8FRHRVW5D2C|          5|           23|         23|   N|                N|\n",
            "|R3RJZC5J4VP7AT|          4|           86|         91|   N|                N|\n",
            "|R2KBV3A9X53ULG|          5|           39|         45|   N|                Y|\n",
            "|R18XX6GVZ41CY1|          5|           21|         22|   N|                N|\n",
            "|R3V8NHJWQWOU7S|          5|           27|         27|   N|                Y|\n",
            "|R25FJV7A58YHEM|          1|           19|         22|   N|                Y|\n",
            "|R285Z02CQJJ36C|          3|           45|         48|   N|                Y|\n",
            "| R5UJCOLQBEADG|          1|           31|         35|   N|                Y|\n",
            "|R1KEUH7SZ9BIRK|          1|           20|         20|   N|                Y|\n",
            "|R16U59S8ZJGPLY|          5|           64|         64|   N|                Y|\n",
            "|R233D4SD2MHUZG|          5|           20|         20|   N|                Y|\n",
            "| RVDGV2G8PEUH2|          1|           13|         21|   N|                N|\n",
            "+--------------+-----------+-------------+-----------+----+-----------------+\n",
            "only showing top 20 rows\n",
            "\n"
          ]
        }
      ]
    },
    {
      "cell_type": "code",
      "metadata": {
        "colab": {
          "base_uri": "https://localhost:8080/"
        },
        "id": "A8VzTctsVuce",
        "outputId": "6f530026-9149-4579-937a-2aadeaea4070"
      },
      "source": [
        "total = vine_paid_df.count()\n",
        "fivestars = vine_paid_df.filter(vine_paid_df.star_rating == 5).count()\n",
        "fivestars_percentage = ((fivestars*100)/total)\n",
        "fivestars_percentage"
      ],
      "execution_count": 11,
      "outputs": [
        {
          "output_type": "execute_result",
          "data": {
            "text/plain": [
              "46.99248120300752"
            ]
          },
          "metadata": {},
          "execution_count": 11
        }
      ]
    },
    {
      "cell_type": "code",
      "metadata": {
        "colab": {
          "base_uri": "https://localhost:8080/",
          "height": 135
        },
        "id": "cVuDbbSfWFF4",
        "outputId": "f1b369c3-04f0-42a2-8156-291231708f98"
      },
      "source": [
        "print(\"Percentage of five stars reviews: \" +str(round(fivestars_percentage))\n",
        "# print(\"Five stars reviews: \" +str(fivestars))\n",
        "print(\"Total reviews:\" +str(total))"
      ],
      "execution_count": 16,
      "outputs": [
        {
          "output_type": "error",
          "ename": "SyntaxError",
          "evalue": "ignored",
          "traceback": [
            "\u001b[0;36m  File \u001b[0;32m\"<ipython-input-16-356002249a39>\"\u001b[0;36m, line \u001b[0;32m3\u001b[0m\n\u001b[0;31m    print(\"Total reviews:\" +str(total))\u001b[0m\n\u001b[0m        ^\u001b[0m\n\u001b[0;31mSyntaxError\u001b[0m\u001b[0;31m:\u001b[0m invalid syntax\n"
          ]
        }
      ]
    }
  ]
}